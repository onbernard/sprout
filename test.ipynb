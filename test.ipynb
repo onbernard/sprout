{
 "cells": [
  {
   "cell_type": "code",
   "execution_count": 1,
   "metadata": {},
   "outputs": [],
   "source": [
    "from src.sprout import SproutRecord"
   ]
  },
  {
   "cell_type": "code",
   "execution_count": 2,
   "metadata": {},
   "outputs": [],
   "source": [
    "@SproutRecord.processor\n",
    "async def printy_boi(stream):\n",
    "    async for stuff in stream:\n",
    "        print(stuff)"
   ]
  },
  {
   "cell_type": "code",
   "execution_count": 3,
   "metadata": {},
   "outputs": [
    {
     "name": "stdout",
     "output_type": "stream",
     "text": [
      "[SproutRecord(pk='01GQGASFW20J1319TPNFC7Q93R')]\n",
      "[SproutRecord(pk='01GQGASGPGHKCNNNX2CRSFS3CW')]\n",
      "[SproutRecord(pk='01GQGASH766JZH8J5XF52680HQ')]\n",
      "[SproutRecord(pk='01GQGASHT3MBE5SRRHXP1ME1QX')]\n",
      "[SproutRecord(pk='01GQGASJ9YZYGASRCXM7A45AX2')]\n"
     ]
    }
   ],
   "source": [
    "await printy_boi()"
   ]
  }
 ],
 "metadata": {
  "kernelspec": {
   "display_name": "sprout_master",
   "language": "python",
   "name": "python3"
  },
  "language_info": {
   "codemirror_mode": {
    "name": "ipython",
    "version": 3
   },
   "file_extension": ".py",
   "mimetype": "text/x-python",
   "name": "python",
   "nbconvert_exporter": "python",
   "pygments_lexer": "ipython3",
   "version": "3.9.15"
  },
  "orig_nbformat": 4,
  "vscode": {
   "interpreter": {
    "hash": "b56ecea2ca8e457cf138780ce4500f9361855fb9ec0898e39e6295ff1c3d20fa"
   }
  }
 },
 "nbformat": 4,
 "nbformat_minor": 2
}
