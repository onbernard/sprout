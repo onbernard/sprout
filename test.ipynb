{
 "cells": [
  {
   "cell_type": "code",
   "execution_count": 1,
   "metadata": {},
   "outputs": [],
   "source": [
    "from test_multi import app, afunc, anotherfunc, fails, Request"
   ]
  },
  {
   "cell_type": "code",
   "execution_count": 2,
   "metadata": {},
   "outputs": [
    {
     "ename": "ValidationError",
     "evalue": "3 validation errors for CustomFuture\narguments -> a\n  field required (type=value_error.missing)\narguments -> args\n  1 positional arguments expected but 1 given (type=type_error)\narguments -> kwargs\n  unexpected keyword argument: 'a' (type=type_error)",
     "output_type": "error",
     "traceback": [
      "\u001b[0;31m---------------------------------------------------------------------------\u001b[0m",
      "\u001b[0;31mValidationError\u001b[0m                           Traceback (most recent call last)",
      "Cell \u001b[0;32mIn[2], line 1\u001b[0m\n\u001b[0;32m----> 1\u001b[0m \u001b[39mawait\u001b[39;00m afunc(a\u001b[39m=\u001b[39mRequest())\n",
      "File \u001b[0;32m~/projets/sprout/sprout/task.py:58\u001b[0m, in \u001b[0;36mTask.__call__\u001b[0;34m(self, *args, **kwargs)\u001b[0m\n\u001b[1;32m     56\u001b[0m     \u001b[39mawait\u001b[39;00m \u001b[39mself\u001b[39m\u001b[39m.\u001b[39mpending_stream\u001b[39m.\u001b[39mpush(StreamItem(key\u001b[39m=\u001b[39mfuture\u001b[39m.\u001b[39mkey(\u001b[39mself\u001b[39m\u001b[39m.\u001b[39mname)))\n\u001b[1;32m     57\u001b[0m \u001b[39melse\u001b[39;00m:\n\u001b[0;32m---> 58\u001b[0m     future \u001b[39m=\u001b[39m \u001b[39mself\u001b[39;49m\u001b[39m.\u001b[39;49mmodel\u001b[39m.\u001b[39;49mparse_raw(\u001b[39mawait\u001b[39;49;00m \u001b[39mself\u001b[39;49m\u001b[39m.\u001b[39;49mdb\u001b[39m.\u001b[39;49mget(future\u001b[39m.\u001b[39;49mkey(\u001b[39mself\u001b[39;49m\u001b[39m.\u001b[39;49mname)))\n\u001b[1;32m     59\u001b[0m     \u001b[39m# future = FutureModel.parse_raw(await self.db.get(future.key(self.name)))\u001b[39;00m\n\u001b[1;32m     60\u001b[0m \u001b[39mreturn\u001b[39;00m future\n",
      "File \u001b[0;32m~/mambaforge/envs/sprout_master/lib/python3.9/site-packages/pydantic/main.py:550\u001b[0m, in \u001b[0;36mpydantic.main.BaseModel.parse_raw\u001b[0;34m()\u001b[0m\n",
      "File \u001b[0;32m~/mambaforge/envs/sprout_master/lib/python3.9/site-packages/pydantic/main.py:527\u001b[0m, in \u001b[0;36mpydantic.main.BaseModel.parse_obj\u001b[0;34m()\u001b[0m\n",
      "File \u001b[0;32m~/mambaforge/envs/sprout_master/lib/python3.9/site-packages/pydantic/main.py:342\u001b[0m, in \u001b[0;36mpydantic.main.BaseModel.__init__\u001b[0;34m()\u001b[0m\n",
      "\u001b[0;31mValidationError\u001b[0m: 3 validation errors for CustomFuture\narguments -> a\n  field required (type=value_error.missing)\narguments -> args\n  1 positional arguments expected but 1 given (type=type_error)\narguments -> kwargs\n  unexpected keyword argument: 'a' (type=type_error)"
     ]
    }
   ],
   "source": [
    "await afunc(a=Request())"
   ]
  },
  {
   "cell_type": "code",
   "execution_count": 5,
   "metadata": {},
   "outputs": [
    {
     "name": "stdout",
     "output_type": "stream",
     "text": [
      "[(b'1675097638958-0', BaseModel())]\n",
      "[(b'1675097643321-0', BaseModel())]\n",
      "[(b'1675097643535-0', BaseModel())]\n",
      "[(b'1675097643785-0', BaseModel())]\n",
      "[(b'1675097644001-0', BaseModel())]\n",
      "[(b'1675097644140-0', BaseModel())]\n",
      "[(b'1675097648071-0', BaseModel())]\n",
      "[(b'1675097648309-0', BaseModel())]\n",
      "[(b'1675097648521-0', BaseModel())]\n",
      "[(b'1675097648706-0', BaseModel())]\n",
      "[(b'1675097648941-0', BaseModel())]\n",
      "[(b'1675097649115-0', BaseModel())]\n",
      "[(b'1675097649297-0', BaseModel())]\n"
     ]
    }
   ],
   "source": [
    "async for stuff in s.read_group(\"group\", \"consumer\"):\n",
    "    print(stuff)"
   ]
  }
 ],
 "metadata": {
  "kernelspec": {
   "display_name": "sprout_master",
   "language": "python",
   "name": "python3"
  },
  "language_info": {
   "codemirror_mode": {
    "name": "ipython",
    "version": 3
   },
   "file_extension": ".py",
   "mimetype": "text/x-python",
   "name": "python",
   "nbconvert_exporter": "python",
   "pygments_lexer": "ipython3",
   "version": "3.9.15"
  },
  "orig_nbformat": 4,
  "vscode": {
   "interpreter": {
    "hash": "b56ecea2ca8e457cf138780ce4500f9361855fb9ec0898e39e6295ff1c3d20fa"
   }
  }
 },
 "nbformat": 4,
 "nbformat_minor": 2
}
