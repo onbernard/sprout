{
 "cells": [
  {
   "cell_type": "code",
   "execution_count": 1,
   "metadata": {},
   "outputs": [],
   "source": [
    "from src.future import FutureModel, Arguments\n",
    "from src.task import Task\n",
    "from pydantic import BaseModel\n",
    "from redis.asyncio import Redis\n",
    "from test_multi import app\n",
    "from src.utils.stream import AsyncRedisStream\n",
    "from src.async_sprout import Sprout"
   ]
  },
  {
   "cell_type": "code",
   "execution_count": 2,
   "metadata": {},
   "outputs": [
    {
     "name": "stdout",
     "output_type": "stream",
     "text": [
      "arguments=Arguments(args=(1,), kwargs={}) result=2 status='completed'\n",
      "arguments=Arguments(args=(111,), kwargs={}) result=222 status='completed'\n",
      "arguments=Arguments(args=(111,), kwargs={}) result=222 status='completed'\n",
      "arguments=Arguments(args=(), kwargs={}) result='uwuuwu' status='completed'\n",
      "arguments=Arguments(args=(111,), kwargs={}) result=222 status='completed'\n",
      "arguments=Arguments(args=('fdsq',), kwargs={}) result='fdsqfdsq' status='completed'\n"
     ]
    }
   ],
   "source": [
    "await app.run()"
   ]
  },
  {
   "cell_type": "code",
   "execution_count": 5,
   "metadata": {},
   "outputs": [
    {
     "name": "stdout",
     "output_type": "stream",
     "text": [
      "[(b'1675097638958-0', BaseModel())]\n",
      "[(b'1675097643321-0', BaseModel())]\n",
      "[(b'1675097643535-0', BaseModel())]\n",
      "[(b'1675097643785-0', BaseModel())]\n",
      "[(b'1675097644001-0', BaseModel())]\n",
      "[(b'1675097644140-0', BaseModel())]\n",
      "[(b'1675097648071-0', BaseModel())]\n",
      "[(b'1675097648309-0', BaseModel())]\n",
      "[(b'1675097648521-0', BaseModel())]\n",
      "[(b'1675097648706-0', BaseModel())]\n",
      "[(b'1675097648941-0', BaseModel())]\n",
      "[(b'1675097649115-0', BaseModel())]\n",
      "[(b'1675097649297-0', BaseModel())]\n"
     ]
    }
   ],
   "source": [
    "async for stuff in s.read_group(\"group\", \"consumer\"):\n",
    "    print(stuff)"
   ]
  }
 ],
 "metadata": {
  "kernelspec": {
   "display_name": "Python 3",
   "language": "python",
   "name": "python3"
  },
  "language_info": {
   "codemirror_mode": {
    "name": "ipython",
    "version": 3
   },
   "file_extension": ".py",
   "mimetype": "text/x-python",
   "name": "python",
   "nbconvert_exporter": "python",
   "pygments_lexer": "ipython3",
   "version": "3.9.15"
  },
  "orig_nbformat": 4,
  "vscode": {
   "interpreter": {
    "hash": "92bd4424d9af53b2ba02c9e006a1f497f44b68005d4e3e2c5343482010e89fd3"
   }
  }
 },
 "nbformat": 4,
 "nbformat_minor": 2
}
