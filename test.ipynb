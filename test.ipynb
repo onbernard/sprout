{
 "cells": [
  {
   "cell_type": "code",
   "execution_count": 1,
   "metadata": {},
   "outputs": [],
   "source": [
    "from src.future import FutureModel, Arguments\n",
    "from src.task import Task\n",
    "from pydantic import BaseModel\n",
    "from redis.asyncio import Redis\n",
    "from test_multi import task\n",
    "from src.utils.stream import AsyncRedisStream"
   ]
  },
  {
   "cell_type": "code",
   "execution_count": 2,
   "metadata": {},
   "outputs": [
    {
     "name": "stdout",
     "output_type": "stream",
     "text": [
      "arguments=Arguments(args=(54,), kwargs={}) result=1 status='completed'\n",
      "arguments=Arguments(args=(54,), kwargs={}) result=1 status='completed'\n",
      "arguments=Arguments(args=(54,), kwargs={}) result=1 status='completed'\n",
      "arguments=Arguments(args=(54,), kwargs={}) result=1 status='completed'\n",
      "arguments=Arguments(args=(54,), kwargs={}) result=1 status='completed'\n",
      "arguments=Arguments(args=(54,), kwargs={}) result=1 status='completed'\n",
      "arguments=Arguments(args=(54,), kwargs={}) result=1 status='completed'\n",
      "arguments=Arguments(args=(54,), kwargs={}) result=1 status='completed'\n",
      "arguments=Arguments(args=(54,), kwargs={}) result=1 status='completed'\n",
      "arguments=Arguments(args=(54,), kwargs={}) result=1 status='completed'\n",
      "arguments=Arguments(args=(54,), kwargs={}) result=1 status='completed'\n",
      "arguments=Arguments(args=(54,), kwargs={}) result=1 status='completed'\n",
      "arguments=Arguments(args=(54,), kwargs={}) result=1 status='completed'\n",
      "arguments=Arguments(args=(54,), kwargs={}) result=1 status='completed'\n",
      "arguments=Arguments(args=(54,), kwargs={}) result=1 status='completed'\n",
      "arguments=Arguments(args=(54,), kwargs={}) result=1 status='completed'\n",
      "arguments=Arguments(args=(54,), kwargs={}) result=1 status='completed'\n"
     ]
    }
   ],
   "source": [
    "async for stuff in task.consumer():\n",
    "    print(stuff)"
   ]
  },
  {
   "cell_type": "code",
   "execution_count": 5,
   "metadata": {},
   "outputs": [
    {
     "name": "stdout",
     "output_type": "stream",
     "text": [
      "[(b'1675097638958-0', BaseModel())]\n",
      "[(b'1675097643321-0', BaseModel())]\n",
      "[(b'1675097643535-0', BaseModel())]\n",
      "[(b'1675097643785-0', BaseModel())]\n",
      "[(b'1675097644001-0', BaseModel())]\n",
      "[(b'1675097644140-0', BaseModel())]\n",
      "[(b'1675097648071-0', BaseModel())]\n",
      "[(b'1675097648309-0', BaseModel())]\n",
      "[(b'1675097648521-0', BaseModel())]\n",
      "[(b'1675097648706-0', BaseModel())]\n",
      "[(b'1675097648941-0', BaseModel())]\n",
      "[(b'1675097649115-0', BaseModel())]\n",
      "[(b'1675097649297-0', BaseModel())]\n"
     ]
    }
   ],
   "source": [
    "async for stuff in s.read_group(\"group\", \"consumer\"):\n",
    "    print(stuff)"
   ]
  }
 ],
 "metadata": {
  "kernelspec": {
   "display_name": "sprout_master",
   "language": "python",
   "name": "python3"
  },
  "language_info": {
   "codemirror_mode": {
    "name": "ipython",
    "version": 3
   },
   "file_extension": ".py",
   "mimetype": "text/x-python",
   "name": "python",
   "nbconvert_exporter": "python",
   "pygments_lexer": "ipython3",
   "version": "3.9.15"
  },
  "orig_nbformat": 4,
  "vscode": {
   "interpreter": {
    "hash": "b56ecea2ca8e457cf138780ce4500f9361855fb9ec0898e39e6295ff1c3d20fa"
   }
  }
 },
 "nbformat": 4,
 "nbformat_minor": 2
}
