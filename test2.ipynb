{
 "cells": [
  {
   "cell_type": "code",
   "execution_count": 1,
   "metadata": {},
   "outputs": [],
   "source": [
    "from test_multi import app, afunc, anotherfunc, fails, Request, infinite\n",
    "from sprout.utils.stream import AsyncRedisStream\n",
    "import asyncio"
   ]
  },
  {
   "cell_type": "code",
   "execution_count": 2,
   "metadata": {},
   "outputs": [
    {
     "name": "stdout",
     "output_type": "stream",
     "text": [
      "('/home/lambda/projets/sprout/sprout/sprout.py:stream:afunc:pending', StreamItem(key='_future:afunc:f3d4b0488088ed1d427bccbb6f8e4803'))\n",
      "('/home/lambda/projets/sprout/sprout/sprout.py:stream:afunc:inprogress', StreamItem(key='_future:afunc:f3d4b0488088ed1d427bccbb6f8e4803'))\n",
      "('/home/lambda/projets/sprout/sprout/sprout.py:stream:afunc:pending', StreamItem(key='_future:afunc:cfde6d8d68d73876015a918c842e14d9'))\n",
      "('/home/lambda/projets/sprout/sprout/sprout.py:stream:afunc:inprogress', StreamItem(key='_future:afunc:cfde6d8d68d73876015a918c842e14d9'))\n",
      "('/home/lambda/projets/sprout/sprout/sprout.py:stream:afunc:completed', StreamItem(key='_future:afunc:cfde6d8d68d73876015a918c842e14d9'))\n",
      "('/home/lambda/projets/sprout/sprout/sprout.py:stream:afunc:pending', StreamItem(key='_future:afunc:9d765a40e92015e991f1db48151b9a4f'))\n",
      "('/home/lambda/projets/sprout/sprout/sprout.py:stream:afunc:inprogress', StreamItem(key='_future:afunc:9d765a40e92015e991f1db48151b9a4f'))\n",
      "('/home/lambda/projets/sprout/sprout/sprout.py:stream:afunc:completed', StreamItem(key='_future:afunc:9d765a40e92015e991f1db48151b9a4f'))\n"
     ]
    }
   ],
   "source": [
    "async for stuff in afunc.monitor():\n",
    "    print(stuff)"
   ]
  },
  {
   "cell_type": "code",
   "execution_count": null,
   "metadata": {},
   "outputs": [
    {
     "name": "stdout",
     "output_type": "stream",
     "text": [
      "key='_future:afunc:0a520d7d47fb44f84710191599aa0f2e'\n",
      "key='_future:afunc:0a520d7d47fb44f84710191599aa0f2e'\n"
     ]
    }
   ],
   "source": [
    "async for stuff in stream_watcher(afunc.pending_stream, afunc.inprogress_stream, afunc.completed_stream):\n",
    "    print(stuff)"
   ]
  },
  {
   "cell_type": "code",
   "execution_count": null,
   "metadata": {},
   "outputs": [],
   "source": [
    "async def merge_stream(*streams):\n",
    "    # merge async iterators, proof of concept\n",
    "    queue = asyncio.Queue(1)\n",
    "    async def drain(aiter):\n",
    "        async for item in aiter:\n",
    "            await queue.put(item)\n",
    "    async def merged():\n",
    "        while not all(task.done() for task in tasks):\n",
    "            yield await queue.get()\n",
    "    await asyncio.gather(drain(s) for s in streams)\n",
    "    return merged()"
   ]
  },
  {
   "cell_type": "code",
   "execution_count": null,
   "metadata": {},
   "outputs": [],
   "source": [
    "await anotherfunc()"
   ]
  },
  {
   "cell_type": "code",
   "execution_count": null,
   "metadata": {},
   "outputs": [],
   "source": [
    "await fails()"
   ]
  }
 ],
 "metadata": {
  "kernelspec": {
   "display_name": "sprout_master",
   "language": "python",
   "name": "python3"
  },
  "language_info": {
   "codemirror_mode": {
    "name": "ipython",
    "version": 3
   },
   "file_extension": ".py",
   "mimetype": "text/x-python",
   "name": "python",
   "nbconvert_exporter": "python",
   "pygments_lexer": "ipython3",
   "version": "3.9.15"
  },
  "orig_nbformat": 4,
  "vscode": {
   "interpreter": {
    "hash": "b56ecea2ca8e457cf138780ce4500f9361855fb9ec0898e39e6295ff1c3d20fa"
   }
  }
 },
 "nbformat": 4,
 "nbformat_minor": 2
}
