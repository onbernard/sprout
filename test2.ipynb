{
 "cells": [
  {
   "cell_type": "code",
   "execution_count": 1,
   "metadata": {},
   "outputs": [],
   "source": [
    "from test_multi import app, afunc, anotherfunc, fails, Request\n",
    "from pydantic.decorator import ValidatedFunction"
   ]
  },
  {
   "cell_type": "code",
   "execution_count": 2,
   "metadata": {},
   "outputs": [
    {
     "name": "stdout",
     "output_type": "stream",
     "text": [
      "file='fsq/fsq/fqsss'\n",
      "arguments=Arguments(args=(), kwargs={'a': {'file': 'fsq/fsq/fqsss'}}) result='fsq/fsq/fqsssuwu' status='completed'\n"
     ]
    }
   ],
   "source": [
    "async for stuff in afunc.consumer():\n",
    "    print(stuff)"
   ]
  },
  {
   "cell_type": "code",
   "execution_count": 4,
   "metadata": {},
   "outputs": [],
   "source": [
    "def afunc(a:int):\n",
    "    return a*2"
   ]
  },
  {
   "cell_type": "code",
   "execution_count": 13,
   "metadata": {},
   "outputs": [
    {
     "name": "stdout",
     "output_type": "stream",
     "text": [
      "a=1 v__duplicate_kwargs=None args=None kwargs=None\n",
      "a=1 v__duplicate_kwargs=None args=None kwargs=None\n"
     ]
    }
   ],
   "source": [
    "vf = ValidatedFunction(afunc, None)\n",
    "m = vf.init_model_instance(1)\n",
    "msjon = m.json()\n",
    "mprime = vf.model.parse_raw(msjon)\n",
    "print(m)\n",
    "print(mprime)"
   ]
  },
  {
   "cell_type": "code",
   "execution_count": 55,
   "metadata": {},
   "outputs": [
    {
     "ename": "KeyError",
     "evalue": "'v__duplicate_kwargs'",
     "output_type": "error",
     "traceback": [
      "\u001b[0;31m---------------------------------------------------------------------------\u001b[0m",
      "\u001b[0;31mKeyError\u001b[0m                                  Traceback (most recent call last)",
      "Cell \u001b[0;32mIn[55], line 1\u001b[0m\n\u001b[0;32m----> 1\u001b[0m m\u001b[39m.\u001b[39;49m__fields_set__\u001b[39m.\u001b[39;49mremove(\u001b[39m'\u001b[39;49m\u001b[39mv__duplicate_kwargs\u001b[39;49m\u001b[39m'\u001b[39;49m)\n\u001b[1;32m      2\u001b[0m m\u001b[39m.\u001b[39m__fields_set__\u001b[39m.\u001b[39mremove(\u001b[39m'\u001b[39m\u001b[39margs\u001b[39m\u001b[39m'\u001b[39m)\n\u001b[1;32m      3\u001b[0m m\u001b[39m.\u001b[39m__fields_set__\u001b[39m.\u001b[39mremove(\u001b[39m'\u001b[39m\u001b[39mkwargs\u001b[39m\u001b[39m'\u001b[39m)\n",
      "\u001b[0;31mKeyError\u001b[0m: 'v__duplicate_kwargs'"
     ]
    }
   ],
   "source": [
    "m.__fields_set__.remove('v__duplicate_kwargs')\n",
    "m.__fields_set__.remove('args')\n",
    "m.__fields_set__.remove('kwargs')"
   ]
  },
  {
   "cell_type": "code",
   "execution_count": 50,
   "metadata": {},
   "outputs": [
    {
     "name": "stdout",
     "output_type": "stream",
     "text": [
      "{'a'}\n",
      "{'a', 'v__duplicate_kwargs', 'args', 'kwargs'}\n"
     ]
    }
   ],
   "source": [
    "print(m.__fields_set__)\n",
    "print(mprime.__fields_set__)"
   ]
  },
  {
   "cell_type": "code",
   "execution_count": 44,
   "metadata": {},
   "outputs": [
    {
     "name": "stdout",
     "output_type": "stream",
     "text": [
      "uwu {'a': 1, 'v__duplicate_kwargs': None, 'args': None, 'kwargs': None}\n",
      "None\n"
     ]
    },
    {
     "ename": "TypeError",
     "evalue": "'NoneType' object is not iterable",
     "output_type": "error",
     "traceback": [
      "\u001b[0;31m---------------------------------------------------------------------------\u001b[0m",
      "\u001b[0;31mTypeError\u001b[0m                                 Traceback (most recent call last)",
      "Cell \u001b[0;32mIn[44], line 33\u001b[0m\n\u001b[1;32m     31\u001b[0m     \u001b[39melse\u001b[39;00m:\n\u001b[1;32m     32\u001b[0m         \u001b[39mreturn\u001b[39;00m \u001b[39mself\u001b[39m\u001b[39m.\u001b[39mraw_function(\u001b[39m*\u001b[39m\u001b[39m*\u001b[39md, \u001b[39m*\u001b[39m\u001b[39m*\u001b[39mvar_kwargs)\n\u001b[0;32m---> 33\u001b[0m myexecute(\u001b[39mself\u001b[39;49m\u001b[39m=\u001b[39;49mvf, m\u001b[39m=\u001b[39;49mmprime)\n",
      "Cell \u001b[0;32mIn[44], line 17\u001b[0m, in \u001b[0;36mmyexecute\u001b[0;34m(self, m)\u001b[0m\n\u001b[1;32m     15\u001b[0m \u001b[39melif\u001b[39;00m name \u001b[39m==\u001b[39m \u001b[39mself\u001b[39m\u001b[39m.\u001b[39mv_args_name:\n\u001b[1;32m     16\u001b[0m     \u001b[39mprint\u001b[39m(value)\n\u001b[0;32m---> 17\u001b[0m     args_ \u001b[39m+\u001b[39m\u001b[39m=\u001b[39m value\n\u001b[1;32m     18\u001b[0m     in_kwargs \u001b[39m=\u001b[39m \u001b[39mTrue\u001b[39;00m\n\u001b[1;32m     19\u001b[0m \u001b[39melse\u001b[39;00m:\n",
      "\u001b[0;31mTypeError\u001b[0m: 'NoneType' object is not iterable"
     ]
    }
   ],
   "source": [
    "from pydantic import BaseModel\n",
    "from typing import Any\n",
    "def myexecute(self, m: BaseModel) -> Any:\n",
    "    d = {k: v for k, v in m._iter() if k in m.__fields_set__ or m.__fields__[k].default_factory}\n",
    "    print(\"uwu\",d)\n",
    "    var_kwargs = d.pop(self.v_kwargs_name, {})\n",
    "\n",
    "    if self.v_args_name in d:\n",
    "        args_: List[Any] = []\n",
    "        in_kwargs = False\n",
    "        kwargs = {}\n",
    "        for name, value in d.items():\n",
    "            if in_kwargs:\n",
    "                kwargs[name] = value\n",
    "            elif name == self.v_args_name:\n",
    "                print(value)\n",
    "                args_ += value\n",
    "                in_kwargs = True\n",
    "            else:\n",
    "                args_.append(value)\n",
    "        return self.raw_function(*args_, **kwargs, **var_kwargs)\n",
    "    elif self.positional_only_args:\n",
    "        args_ = []\n",
    "        kwargs = {}\n",
    "        for name, value in d.items():\n",
    "            if name in self.positional_only_args:\n",
    "                args_.append(value)\n",
    "            else:\n",
    "                kwargs[name] = value\n",
    "        return self.raw_function(*args_, **kwargs, **var_kwargs)\n",
    "    else:\n",
    "        return self.raw_function(**d, **var_kwargs)\n",
    "myexecute(self=vf, m=mprime)"
   ]
  },
  {
   "cell_type": "code",
   "execution_count": 45,
   "metadata": {},
   "outputs": [
    {
     "name": "stdout",
     "output_type": "stream",
     "text": [
      "uwu {'a': 1}\n"
     ]
    },
    {
     "data": {
      "text/plain": [
       "2"
      ]
     },
     "execution_count": 45,
     "metadata": {},
     "output_type": "execute_result"
    }
   ],
   "source": [
    "myexecute(self=vf, m=m)"
   ]
  },
  {
   "cell_type": "code",
   "execution_count": 42,
   "metadata": {},
   "outputs": [
    {
     "data": {
      "text/plain": [
       "{'a': 5, 'args': [3], 'v__duplicate_kwargs': ['a']}"
      ]
     },
     "execution_count": 42,
     "metadata": {},
     "output_type": "execute_result"
    }
   ],
   "source": [
    "vf.build_values(args=(1,3),kwargs={\"a\":5})\n",
    "m.parse"
   ]
  },
  {
   "cell_type": "code",
   "execution_count": 4,
   "metadata": {},
   "outputs": [
    {
     "data": {
      "text/plain": [
       "{'pending': 33,\n",
       " 'min': b'1675119864444-0',\n",
       " 'max': b'1675119882161-0',\n",
       " 'consumers': [{'name': b'_consumer:36d04c78fdf444b2ac908cfa0f17a99e',\n",
       "   'pending': 17},\n",
       "  {'name': b'_consumer:a891233461034681ac2c44193c1ab1c0', 'pending': 16}]}"
      ]
     },
     "execution_count": 4,
     "metadata": {},
     "output_type": "execute_result"
    }
   ],
   "source": [
    "await db.xpending(\"_stream:uwu:pending\", \"_worker\")"
   ]
  }
 ],
 "metadata": {
  "kernelspec": {
   "display_name": "sprout_master",
   "language": "python",
   "name": "python3"
  },
  "language_info": {
   "codemirror_mode": {
    "name": "ipython",
    "version": 3
   },
   "file_extension": ".py",
   "mimetype": "text/x-python",
   "name": "python",
   "nbconvert_exporter": "python",
   "pygments_lexer": "ipython3",
   "version": "3.9.15"
  },
  "orig_nbformat": 4,
  "vscode": {
   "interpreter": {
    "hash": "b56ecea2ca8e457cf138780ce4500f9361855fb9ec0898e39e6295ff1c3d20fa"
   }
  }
 },
 "nbformat": 4,
 "nbformat_minor": 2
}
