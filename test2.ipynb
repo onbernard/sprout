{
 "cells": [
  {
   "cell_type": "code",
   "execution_count": 2,
   "metadata": {},
   "outputs": [],
   "source": [
    "from test_multi import task\n",
    "from src.utils.stream import AsyncRedisStream\n",
    "from pydantic import BaseModel\n",
    "from redis.asyncio import Redis"
   ]
  },
  {
   "cell_type": "code",
   "execution_count": 3,
   "metadata": {},
   "outputs": [
    {
     "name": "stdout",
     "output_type": "stream",
     "text": [
      "arguments=Arguments(args=(54,), kwargs={}) result=1 status='completed'\n",
      "arguments=Arguments(args=(54,), kwargs={}) result=1 status='completed'\n",
      "arguments=Arguments(args=(54,), kwargs={}) result=1 status='completed'\n"
     ]
    }
   ],
   "source": [
    "async for stuff in task.consumer():\n",
    "    print(stuff)"
   ]
  },
  {
   "cell_type": "code",
   "execution_count": 2,
   "metadata": {},
   "outputs": [
    {
     "data": {
      "text/plain": [
       "True"
      ]
     },
     "execution_count": 2,
     "metadata": {},
     "output_type": "execute_result"
    }
   ],
   "source": [
    "db = Redis()\n",
    "await db.ping()"
   ]
  },
  {
   "cell_type": "code",
   "execution_count": 5,
   "metadata": {},
   "outputs": [
    {
     "data": {
      "text/plain": [
       "{'pending': 0, 'min': None, 'max': None, 'consumers': []}"
      ]
     },
     "execution_count": 5,
     "metadata": {},
     "output_type": "execute_result"
    }
   ],
   "source": [
    "await db.x(\"_stream:uwu:pending\",\"_worker\")"
   ]
  },
  {
   "cell_type": "code",
   "execution_count": 4,
   "metadata": {},
   "outputs": [
    {
     "data": {
      "text/plain": [
       "{'pending': 33,\n",
       " 'min': b'1675119864444-0',\n",
       " 'max': b'1675119882161-0',\n",
       " 'consumers': [{'name': b'_consumer:36d04c78fdf444b2ac908cfa0f17a99e',\n",
       "   'pending': 17},\n",
       "  {'name': b'_consumer:a891233461034681ac2c44193c1ab1c0', 'pending': 16}]}"
      ]
     },
     "execution_count": 4,
     "metadata": {},
     "output_type": "execute_result"
    }
   ],
   "source": [
    "await db.xpending(\"_stream:uwu:pending\", \"_worker\")"
   ]
  }
 ],
 "metadata": {
  "kernelspec": {
   "display_name": "Python 3",
   "language": "python",
   "name": "python3"
  },
  "language_info": {
   "codemirror_mode": {
    "name": "ipython",
    "version": 3
   },
   "file_extension": ".py",
   "mimetype": "text/x-python",
   "name": "python",
   "nbconvert_exporter": "python",
   "pygments_lexer": "ipython3",
   "version": "3.9.15"
  },
  "orig_nbformat": 4,
  "vscode": {
   "interpreter": {
    "hash": "92bd4424d9af53b2ba02c9e006a1f497f44b68005d4e3e2c5343482010e89fd3"
   }
  }
 },
 "nbformat": 4,
 "nbformat_minor": 2
}
