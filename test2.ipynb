{
 "cells": [
  {
   "cell_type": "code",
   "execution_count": 1,
   "metadata": {},
   "outputs": [],
   "source": [
    "from pydantic import BaseModel\n",
    "from pathlib import Path\n",
    "from watchfiles import awatch\n",
    "from aredis_om import JsonModel, EmbeddedJsonModel, HashModel\n",
    "from typing import Optional, Callable\n",
    "from functools import wraps\n",
    "import redis.asyncio as redis\n",
    "from src.sprout import SproutRecord"
   ]
  },
  {
   "cell_type": "code",
   "execution_count": 2,
   "metadata": {},
   "outputs": [],
   "source": [
    "@SproutRecord.processor\n",
    "async def printy_boi(stream):\n",
    "    async for stuff in stream:\n",
    "        print(stuff)"
   ]
  },
  {
   "cell_type": "code",
   "execution_count": 3,
   "metadata": {},
   "outputs": [
    {
     "ename": "DataError",
     "evalue": "Invalid input of type: 'property'. Convert to a bytes, string, int or float first.",
     "output_type": "error",
     "traceback": [
      "\u001b[0;31m---------------------------------------------------------------------------\u001b[0m",
      "\u001b[0;31mDataError\u001b[0m                                 Traceback (most recent call last)",
      "Cell \u001b[0;32mIn[3], line 1\u001b[0m\n\u001b[0;32m----> 1\u001b[0m \u001b[39mawait\u001b[39;00m printy_boi()\n",
      "File \u001b[0;32m~/projets/sprout/src/sprout.py:54\u001b[0m, in \u001b[0;36mSproutRecord.processor.<locals>.wrapper\u001b[0;34m()\u001b[0m\n\u001b[1;32m     52\u001b[0m \u001b[39m@wraps\u001b[39m(func)\n\u001b[1;32m     53\u001b[0m \u001b[39masync\u001b[39;00m \u001b[39mdef\u001b[39;00m \u001b[39mwrapper\u001b[39m():\n\u001b[0;32m---> 54\u001b[0m     \u001b[39mreturn\u001b[39;00m \u001b[39mawait\u001b[39;00m func(\u001b[39mcls\u001b[39m\u001b[39m.\u001b[39m_stream())\n",
      "Cell \u001b[0;32mIn[2], line 3\u001b[0m, in \u001b[0;36mprinty_boi\u001b[0;34m(stream)\u001b[0m\n\u001b[1;32m      1\u001b[0m \u001b[39m@SproutRecord\u001b[39m\u001b[39m.\u001b[39mprocessor\n\u001b[1;32m      2\u001b[0m \u001b[39masync\u001b[39;00m \u001b[39mdef\u001b[39;00m \u001b[39mprinty_boi\u001b[39m(stream):\n\u001b[0;32m----> 3\u001b[0m     \u001b[39masync\u001b[39;00m \u001b[39mfor\u001b[39;00m stuff \u001b[39min\u001b[39;00m stream:\n\u001b[1;32m      4\u001b[0m         \u001b[39mprint\u001b[39m(stuff)\n",
      "File \u001b[0;32m~/projets/sprout/src/sprout.py:41\u001b[0m, in \u001b[0;36mSproutRecord._stream\u001b[0;34m(cls, count, block)\u001b[0m\n\u001b[1;32m     39\u001b[0m last_seen \u001b[39m=\u001b[39m \u001b[39m\"\u001b[39m\u001b[39m$\u001b[39m\u001b[39m\"\u001b[39m\n\u001b[1;32m     40\u001b[0m \u001b[39mwhile\u001b[39;00m \u001b[39mTrue\u001b[39;00m:\n\u001b[0;32m---> 41\u001b[0m     items \u001b[39m=\u001b[39m \u001b[39mawait\u001b[39;00m \u001b[39mcls\u001b[39m\u001b[39m.\u001b[39mMeta\u001b[39m.\u001b[39mdatabase\u001b[39m.\u001b[39mxread(streams\u001b[39m=\u001b[39m{\u001b[39mcls\u001b[39m\u001b[39m.\u001b[39mSproutConfig\u001b[39m.\u001b[39mstream_key:last_seen}, count\u001b[39m=\u001b[39mcount, block\u001b[39m=\u001b[39mblock)\n\u001b[1;32m     42\u001b[0m     \u001b[39mif\u001b[39;00m items:\n\u001b[1;32m     43\u001b[0m         last_seen \u001b[39m=\u001b[39m items[\u001b[39m0\u001b[39m][\u001b[39m1\u001b[39m][\u001b[39m-\u001b[39m\u001b[39m1\u001b[39m][\u001b[39m0\u001b[39m]\n",
      "File \u001b[0;32m~/mambaforge/envs/sprout_master/lib/python3.9/site-packages/redis/asyncio/client.py:505\u001b[0m, in \u001b[0;36mRedis.execute_command\u001b[0;34m(self, *args, **options)\u001b[0m\n\u001b[1;32m    502\u001b[0m conn \u001b[39m=\u001b[39m \u001b[39mself\u001b[39m\u001b[39m.\u001b[39mconnection \u001b[39mor\u001b[39;00m \u001b[39mawait\u001b[39;00m pool\u001b[39m.\u001b[39mget_connection(command_name, \u001b[39m*\u001b[39m\u001b[39m*\u001b[39moptions)\n\u001b[1;32m    504\u001b[0m \u001b[39mtry\u001b[39;00m:\n\u001b[0;32m--> 505\u001b[0m     \u001b[39mreturn\u001b[39;00m \u001b[39mawait\u001b[39;00m conn\u001b[39m.\u001b[39mretry\u001b[39m.\u001b[39mcall_with_retry(\n\u001b[1;32m    506\u001b[0m         \u001b[39mlambda\u001b[39;00m: \u001b[39mself\u001b[39m\u001b[39m.\u001b[39m_send_command_parse_response(\n\u001b[1;32m    507\u001b[0m             conn, command_name, \u001b[39m*\u001b[39margs, \u001b[39m*\u001b[39m\u001b[39m*\u001b[39moptions\n\u001b[1;32m    508\u001b[0m         ),\n\u001b[1;32m    509\u001b[0m         \u001b[39mlambda\u001b[39;00m error: \u001b[39mself\u001b[39m\u001b[39m.\u001b[39m_disconnect_raise(conn, error),\n\u001b[1;32m    510\u001b[0m     )\n\u001b[1;32m    511\u001b[0m \u001b[39mfinally\u001b[39;00m:\n\u001b[1;32m    512\u001b[0m     \u001b[39mif\u001b[39;00m \u001b[39mnot\u001b[39;00m \u001b[39mself\u001b[39m\u001b[39m.\u001b[39mconnection:\n",
      "File \u001b[0;32m~/mambaforge/envs/sprout_master/lib/python3.9/site-packages/redis/asyncio/retry.py:59\u001b[0m, in \u001b[0;36mRetry.call_with_retry\u001b[0;34m(self, do, fail)\u001b[0m\n\u001b[1;32m     57\u001b[0m \u001b[39mwhile\u001b[39;00m \u001b[39mTrue\u001b[39;00m:\n\u001b[1;32m     58\u001b[0m     \u001b[39mtry\u001b[39;00m:\n\u001b[0;32m---> 59\u001b[0m         \u001b[39mreturn\u001b[39;00m \u001b[39mawait\u001b[39;00m do()\n\u001b[1;32m     60\u001b[0m     \u001b[39mexcept\u001b[39;00m \u001b[39mself\u001b[39m\u001b[39m.\u001b[39m_supported_errors \u001b[39mas\u001b[39;00m error:\n\u001b[1;32m     61\u001b[0m         failures \u001b[39m+\u001b[39m\u001b[39m=\u001b[39m \u001b[39m1\u001b[39m\n",
      "File \u001b[0;32m~/mambaforge/envs/sprout_master/lib/python3.9/site-packages/redis/asyncio/client.py:480\u001b[0m, in \u001b[0;36mRedis._send_command_parse_response\u001b[0;34m(self, conn, command_name, *args, **options)\u001b[0m\n\u001b[1;32m    476\u001b[0m \u001b[39masync\u001b[39;00m \u001b[39mdef\u001b[39;00m \u001b[39m_send_command_parse_response\u001b[39m(\u001b[39mself\u001b[39m, conn, command_name, \u001b[39m*\u001b[39margs, \u001b[39m*\u001b[39m\u001b[39m*\u001b[39moptions):\n\u001b[1;32m    477\u001b[0m \u001b[39m    \u001b[39m\u001b[39m\"\"\"\u001b[39;00m\n\u001b[1;32m    478\u001b[0m \u001b[39m    Send a command and parse the response\u001b[39;00m\n\u001b[1;32m    479\u001b[0m \u001b[39m    \"\"\"\u001b[39;00m\n\u001b[0;32m--> 480\u001b[0m     \u001b[39mawait\u001b[39;00m conn\u001b[39m.\u001b[39msend_command(\u001b[39m*\u001b[39margs)\n\u001b[1;32m    481\u001b[0m     \u001b[39mreturn\u001b[39;00m \u001b[39mawait\u001b[39;00m \u001b[39mself\u001b[39m\u001b[39m.\u001b[39mparse_response(conn, command_name, \u001b[39m*\u001b[39m\u001b[39m*\u001b[39moptions)\n",
      "File \u001b[0;32m~/mambaforge/envs/sprout_master/lib/python3.9/site-packages/redis/asyncio/connection.py:806\u001b[0m, in \u001b[0;36mConnection.send_command\u001b[0;34m(self, *args, **kwargs)\u001b[0m\n\u001b[1;32m    803\u001b[0m \u001b[39masync\u001b[39;00m \u001b[39mdef\u001b[39;00m \u001b[39msend_command\u001b[39m(\u001b[39mself\u001b[39m, \u001b[39m*\u001b[39margs: Any, \u001b[39m*\u001b[39m\u001b[39m*\u001b[39mkwargs: Any) \u001b[39m-\u001b[39m\u001b[39m>\u001b[39m \u001b[39mNone\u001b[39;00m:\n\u001b[1;32m    804\u001b[0m \u001b[39m    \u001b[39m\u001b[39m\"\"\"Pack and send a command to the Redis server\"\"\"\u001b[39;00m\n\u001b[1;32m    805\u001b[0m     \u001b[39mawait\u001b[39;00m \u001b[39mself\u001b[39m\u001b[39m.\u001b[39msend_packed_command(\n\u001b[0;32m--> 806\u001b[0m         \u001b[39mself\u001b[39;49m\u001b[39m.\u001b[39;49mpack_command(\u001b[39m*\u001b[39;49margs), check_health\u001b[39m=\u001b[39mkwargs\u001b[39m.\u001b[39mget(\u001b[39m\"\u001b[39m\u001b[39mcheck_health\u001b[39m\u001b[39m\"\u001b[39m, \u001b[39mTrue\u001b[39;00m)\n\u001b[1;32m    807\u001b[0m     )\n",
      "File \u001b[0;32m~/mambaforge/envs/sprout_master/lib/python3.9/site-packages/redis/asyncio/connection.py:881\u001b[0m, in \u001b[0;36mConnection.pack_command\u001b[0;34m(self, *args)\u001b[0m\n\u001b[1;32m    878\u001b[0m buff \u001b[39m=\u001b[39m SYM_EMPTY\u001b[39m.\u001b[39mjoin((SYM_STAR, \u001b[39mstr\u001b[39m(\u001b[39mlen\u001b[39m(args))\u001b[39m.\u001b[39mencode(), SYM_CRLF))\n\u001b[1;32m    880\u001b[0m buffer_cutoff \u001b[39m=\u001b[39m \u001b[39mself\u001b[39m\u001b[39m.\u001b[39m_buffer_cutoff\n\u001b[0;32m--> 881\u001b[0m \u001b[39mfor\u001b[39;00m arg \u001b[39min\u001b[39;00m \u001b[39mmap\u001b[39m(\u001b[39mself\u001b[39m\u001b[39m.\u001b[39mencoder\u001b[39m.\u001b[39mencode, args):\n\u001b[1;32m    882\u001b[0m     \u001b[39m# to avoid large string mallocs, chunk the command into the\u001b[39;00m\n\u001b[1;32m    883\u001b[0m     \u001b[39m# output list if we're sending large values or memoryviews\u001b[39;00m\n\u001b[1;32m    884\u001b[0m     arg_length \u001b[39m=\u001b[39m \u001b[39mlen\u001b[39m(arg)\n\u001b[1;32m    885\u001b[0m     \u001b[39mif\u001b[39;00m (\n\u001b[1;32m    886\u001b[0m         \u001b[39mlen\u001b[39m(buff) \u001b[39m>\u001b[39m buffer_cutoff\n\u001b[1;32m    887\u001b[0m         \u001b[39mor\u001b[39;00m arg_length \u001b[39m>\u001b[39m buffer_cutoff\n\u001b[1;32m    888\u001b[0m         \u001b[39mor\u001b[39;00m \u001b[39misinstance\u001b[39m(arg, \u001b[39mmemoryview\u001b[39m)\n\u001b[1;32m    889\u001b[0m     ):\n",
      "File \u001b[0;32m~/mambaforge/envs/sprout_master/lib/python3.9/site-packages/redis/asyncio/connection.py:123\u001b[0m, in \u001b[0;36mEncoder.encode\u001b[0;34m(self, value)\u001b[0m\n\u001b[1;32m    121\u001b[0m \u001b[39m# a value we don't know how to deal with. throw an error\u001b[39;00m\n\u001b[1;32m    122\u001b[0m typename \u001b[39m=\u001b[39m value\u001b[39m.\u001b[39m\u001b[39m__class__\u001b[39m\u001b[39m.\u001b[39m\u001b[39m__name__\u001b[39m\n\u001b[0;32m--> 123\u001b[0m \u001b[39mraise\u001b[39;00m DataError(\n\u001b[1;32m    124\u001b[0m     \u001b[39mf\u001b[39m\u001b[39m\"\u001b[39m\u001b[39mInvalid input of type: \u001b[39m\u001b[39m{\u001b[39;00mtypename\u001b[39m!r}\u001b[39;00m\u001b[39m. \u001b[39m\u001b[39m\"\u001b[39m\n\u001b[1;32m    125\u001b[0m     \u001b[39m\"\u001b[39m\u001b[39mConvert to a bytes, string, int or float first.\u001b[39m\u001b[39m\"\u001b[39m\n\u001b[1;32m    126\u001b[0m )\n",
      "\u001b[0;31mDataError\u001b[0m: Invalid input of type: 'property'. Convert to a bytes, string, int or float first."
     ]
    }
   ],
   "source": [
    "await printy_boi()"
   ]
  },
  {
   "cell_type": "code",
   "execution_count": 3,
   "metadata": {},
   "outputs": [],
   "source": [
    "async def read_stream(count: int = 1):\n",
    "    last_seen = 0\n",
    "    while True:\n",
    "        stuff = await redis.Redis().xread(streams={\"mystream\":last_seen}, count=count, block=10000)\n",
    "        if stuff:\n",
    "            last_seen = stuff[0][1][-1][0]\n",
    "            new_count = yield stuff\n",
    "            count = new_count if new_count else count"
   ]
  },
  {
   "cell_type": "code",
   "execution_count": 3,
   "metadata": {},
   "outputs": [
    {
     "name": "stdout",
     "output_type": "stream",
     "text": [
      "[[b'mystream', [(b'1674310858730-0', {b'lol': b'uwu'}), (b'1674310866660-0', {b'lol': b'uwu'})]]]\n",
      "[[b'mystream', [(b'1674310867559-0', {b'lol': b'uwu'}), (b'1674310868181-0', {b'lol': b'uwu'})]]]\n",
      "[[b'mystream', [(b'1674310868698-0', {b'lol': b'uwu'}), (b'1674310869209-0', {b'lol': b'uwu'})]]]\n",
      "[[b'mystream', [(b'1674310869699-0', {b'lol': b'uwu'}), (b'1674310870197-0', {b'lol': b'uwu'})]]]\n",
      "[[b'mystream', [(b'1674310870760-0', {b'lol': b'uwu'}), (b'1674322058177-0', {b'lol': b'uwu'})]]]\n",
      "[[b'mystream', [(b'1674322281155-0', {b'lol': b'uwu'}), (b'1674322281888-0', {b'lol': b'uwu'})]]]\n",
      "[[b'mystream', [(b'1674322407835-0', {b'lol': b'uwu'}), (b'1674322459866-0', {b'lol': b'uwu'})]]]\n",
      "[[b'mystream', [(b'1674322463003-0', {b'lol': b'uwu'}), (b'1674322463313-0', {b'lol': b'uwu'})]]]\n"
     ]
    }
   ],
   "source": [
    "async for stuff in read_stream(2):\n",
    "    outp = stuff\n",
    "    print(outp)"
   ]
  },
  {
   "cell_type": "code",
   "execution_count": 3,
   "metadata": {},
   "outputs": [],
   "source": [
    "it = read_stream()"
   ]
  },
  {
   "cell_type": "code",
   "execution_count": 25,
   "metadata": {},
   "outputs": [
    {
     "data": {
      "text/plain": [
       "[[b'mystream', [(b'1674323020010-0', {b'lol': b'uwu'})]]]"
      ]
     },
     "execution_count": 25,
     "metadata": {},
     "output_type": "execute_result"
    }
   ],
   "source": [
    "await it.asend(1)"
   ]
  },
  {
   "cell_type": "code",
   "execution_count": 27,
   "metadata": {},
   "outputs": [
    {
     "name": "stdout",
     "output_type": "stream",
     "text": [
      "[(b'1674310858730-0', {b'lol': b'uwu'})]\n",
      "[(b'1674310866660-0', {b'lol': b'uwu'})]\n",
      "[(b'1674310867559-0', {b'lol': b'uwu'})]\n",
      "[(b'1674310868181-0', {b'lol': b'uwu'})]\n",
      "[(b'1674310868698-0', {b'lol': b'uwu'})]\n",
      "[(b'1674310869209-0', {b'lol': b'uwu'})]\n",
      "[(b'1674310869699-0', {b'lol': b'uwu'})]\n",
      "[(b'1674310870197-0', {b'lol': b'uwu'})]\n",
      "[(b'1674310870760-0', {b'lol': b'uwu'})]\n",
      "[(b'1674322058177-0', {b'lol': b'uwu'})]\n",
      "[(b'1674322281155-0', {b'lol': b'uwu'})]\n",
      "[(b'1674322281888-0', {b'lol': b'uwu'})]\n",
      "[(b'1674322407835-0', {b'lol': b'uwu'})]\n",
      "[(b'1674322459866-0', {b'lol': b'uwu'})]\n",
      "[(b'1674322463003-0', {b'lol': b'uwu'})]\n",
      "[(b'1674322463313-0', {b'lol': b'uwu'})]\n",
      "[(b'1674323020010-0', {b'lol': b'uwu'})]\n"
     ]
    },
    {
     "ename": "CancelledError",
     "evalue": "",
     "output_type": "error",
     "traceback": [
      "\u001b[0;31m---------------------------------------------------------------------------\u001b[0m",
      "\u001b[0;31mCancelledError\u001b[0m                            Traceback (most recent call last)",
      "Cell \u001b[0;32mIn[27], line 1\u001b[0m\n\u001b[0;32m----> 1\u001b[0m \u001b[39masync\u001b[39;00m \u001b[39mfor\u001b[39;00m stuff \u001b[39min\u001b[39;00m stream_generator(redis\u001b[39m.\u001b[39mRedis(), \u001b[39m\"\u001b[39m\u001b[39mmystream\u001b[39m\u001b[39m\"\u001b[39m):\n\u001b[1;32m      2\u001b[0m     \u001b[39mprint\u001b[39m(stuff)\n",
      "File \u001b[0;32m~/projets/sprout/src/sprout.py:34\u001b[0m, in \u001b[0;36mstream_generator\u001b[0;34m(redis_conn, name, count, block)\u001b[0m\n\u001b[1;32m     32\u001b[0m last_seen \u001b[39m=\u001b[39m \u001b[39m0\u001b[39m\n\u001b[1;32m     33\u001b[0m \u001b[39mwhile\u001b[39;00m \u001b[39mTrue\u001b[39;00m:\n\u001b[0;32m---> 34\u001b[0m     items \u001b[39m=\u001b[39m \u001b[39mawait\u001b[39;00m redis_conn\u001b[39m.\u001b[39mxread(streams\u001b[39m=\u001b[39m{name:last_seen}, count\u001b[39m=\u001b[39mcount, block\u001b[39m=\u001b[39mblock)\n\u001b[1;32m     35\u001b[0m     \u001b[39mif\u001b[39;00m items:\n\u001b[1;32m     36\u001b[0m         last_seen \u001b[39m=\u001b[39m items[\u001b[39m0\u001b[39m][\u001b[39m1\u001b[39m][\u001b[39m-\u001b[39m\u001b[39m1\u001b[39m][\u001b[39m0\u001b[39m]\n",
      "File \u001b[0;32m~/mambaforge/envs/sprout_master/lib/python3.9/site-packages/redis/asyncio/client.py:505\u001b[0m, in \u001b[0;36mRedis.execute_command\u001b[0;34m(self, *args, **options)\u001b[0m\n\u001b[1;32m    502\u001b[0m conn \u001b[39m=\u001b[39m \u001b[39mself\u001b[39m\u001b[39m.\u001b[39mconnection \u001b[39mor\u001b[39;00m \u001b[39mawait\u001b[39;00m pool\u001b[39m.\u001b[39mget_connection(command_name, \u001b[39m*\u001b[39m\u001b[39m*\u001b[39moptions)\n\u001b[1;32m    504\u001b[0m \u001b[39mtry\u001b[39;00m:\n\u001b[0;32m--> 505\u001b[0m     \u001b[39mreturn\u001b[39;00m \u001b[39mawait\u001b[39;00m conn\u001b[39m.\u001b[39mretry\u001b[39m.\u001b[39mcall_with_retry(\n\u001b[1;32m    506\u001b[0m         \u001b[39mlambda\u001b[39;00m: \u001b[39mself\u001b[39m\u001b[39m.\u001b[39m_send_command_parse_response(\n\u001b[1;32m    507\u001b[0m             conn, command_name, \u001b[39m*\u001b[39margs, \u001b[39m*\u001b[39m\u001b[39m*\u001b[39moptions\n\u001b[1;32m    508\u001b[0m         ),\n\u001b[1;32m    509\u001b[0m         \u001b[39mlambda\u001b[39;00m error: \u001b[39mself\u001b[39m\u001b[39m.\u001b[39m_disconnect_raise(conn, error),\n\u001b[1;32m    510\u001b[0m     )\n\u001b[1;32m    511\u001b[0m \u001b[39mfinally\u001b[39;00m:\n\u001b[1;32m    512\u001b[0m     \u001b[39mif\u001b[39;00m \u001b[39mnot\u001b[39;00m \u001b[39mself\u001b[39m\u001b[39m.\u001b[39mconnection:\n",
      "File \u001b[0;32m~/mambaforge/envs/sprout_master/lib/python3.9/site-packages/redis/asyncio/retry.py:59\u001b[0m, in \u001b[0;36mRetry.call_with_retry\u001b[0;34m(self, do, fail)\u001b[0m\n\u001b[1;32m     57\u001b[0m \u001b[39mwhile\u001b[39;00m \u001b[39mTrue\u001b[39;00m:\n\u001b[1;32m     58\u001b[0m     \u001b[39mtry\u001b[39;00m:\n\u001b[0;32m---> 59\u001b[0m         \u001b[39mreturn\u001b[39;00m \u001b[39mawait\u001b[39;00m do()\n\u001b[1;32m     60\u001b[0m     \u001b[39mexcept\u001b[39;00m \u001b[39mself\u001b[39m\u001b[39m.\u001b[39m_supported_errors \u001b[39mas\u001b[39;00m error:\n\u001b[1;32m     61\u001b[0m         failures \u001b[39m+\u001b[39m\u001b[39m=\u001b[39m \u001b[39m1\u001b[39m\n",
      "File \u001b[0;32m~/mambaforge/envs/sprout_master/lib/python3.9/site-packages/redis/asyncio/client.py:481\u001b[0m, in \u001b[0;36mRedis._send_command_parse_response\u001b[0;34m(self, conn, command_name, *args, **options)\u001b[0m\n\u001b[1;32m    477\u001b[0m \u001b[39m\u001b[39m\u001b[39m\"\"\"\u001b[39;00m\n\u001b[1;32m    478\u001b[0m \u001b[39mSend a command and parse the response\u001b[39;00m\n\u001b[1;32m    479\u001b[0m \u001b[39m\"\"\"\u001b[39;00m\n\u001b[1;32m    480\u001b[0m \u001b[39mawait\u001b[39;00m conn\u001b[39m.\u001b[39msend_command(\u001b[39m*\u001b[39margs)\n\u001b[0;32m--> 481\u001b[0m \u001b[39mreturn\u001b[39;00m \u001b[39mawait\u001b[39;00m \u001b[39mself\u001b[39m\u001b[39m.\u001b[39mparse_response(conn, command_name, \u001b[39m*\u001b[39m\u001b[39m*\u001b[39moptions)\n",
      "File \u001b[0;32m~/mambaforge/envs/sprout_master/lib/python3.9/site-packages/redis/asyncio/client.py:524\u001b[0m, in \u001b[0;36mRedis.parse_response\u001b[0;34m(self, connection, command_name, **options)\u001b[0m\n\u001b[1;32m    522\u001b[0m         options\u001b[39m.\u001b[39mpop(NEVER_DECODE)\n\u001b[1;32m    523\u001b[0m     \u001b[39melse\u001b[39;00m:\n\u001b[0;32m--> 524\u001b[0m         response \u001b[39m=\u001b[39m \u001b[39mawait\u001b[39;00m connection\u001b[39m.\u001b[39mread_response()\n\u001b[1;32m    525\u001b[0m \u001b[39mexcept\u001b[39;00m ResponseError:\n\u001b[1;32m    526\u001b[0m     \u001b[39mif\u001b[39;00m EMPTY_RESPONSE \u001b[39min\u001b[39;00m options:\n",
      "File \u001b[0;32m~/mambaforge/envs/sprout_master/lib/python3.9/site-packages/redis/asyncio/connection.py:833\u001b[0m, in \u001b[0;36mConnection.read_response\u001b[0;34m(self, disable_decoding, timeout)\u001b[0m\n\u001b[1;32m    829\u001b[0m             response \u001b[39m=\u001b[39m \u001b[39mawait\u001b[39;00m \u001b[39mself\u001b[39m\u001b[39m.\u001b[39m_parser\u001b[39m.\u001b[39mread_response(\n\u001b[1;32m    830\u001b[0m                 disable_decoding\u001b[39m=\u001b[39mdisable_decoding\n\u001b[1;32m    831\u001b[0m             )\n\u001b[1;32m    832\u001b[0m     \u001b[39melse\u001b[39;00m:\n\u001b[0;32m--> 833\u001b[0m         response \u001b[39m=\u001b[39m \u001b[39mawait\u001b[39;00m \u001b[39mself\u001b[39m\u001b[39m.\u001b[39m_parser\u001b[39m.\u001b[39mread_response(\n\u001b[1;32m    834\u001b[0m             disable_decoding\u001b[39m=\u001b[39mdisable_decoding\n\u001b[1;32m    835\u001b[0m         )\n\u001b[1;32m    836\u001b[0m \u001b[39mexcept\u001b[39;00m asyncio\u001b[39m.\u001b[39mTimeoutError:\n\u001b[1;32m    837\u001b[0m     \u001b[39mif\u001b[39;00m timeout \u001b[39mis\u001b[39;00m \u001b[39mnot\u001b[39;00m \u001b[39mNone\u001b[39;00m:\n\u001b[1;32m    838\u001b[0m         \u001b[39m# user requested timeout, return None\u001b[39;00m\n",
      "File \u001b[0;32m~/mambaforge/envs/sprout_master/lib/python3.9/site-packages/redis/asyncio/connection.py:406\u001b[0m, in \u001b[0;36mHiredisParser.read_response\u001b[0;34m(self, disable_decoding)\u001b[0m\n\u001b[1;32m    404\u001b[0m response \u001b[39m=\u001b[39m \u001b[39mself\u001b[39m\u001b[39m.\u001b[39m_reader\u001b[39m.\u001b[39mgets()\n\u001b[1;32m    405\u001b[0m \u001b[39mwhile\u001b[39;00m response \u001b[39mis\u001b[39;00m \u001b[39mFalse\u001b[39;00m:\n\u001b[0;32m--> 406\u001b[0m     \u001b[39mawait\u001b[39;00m \u001b[39mself\u001b[39m\u001b[39m.\u001b[39mread_from_socket()\n\u001b[1;32m    407\u001b[0m     response \u001b[39m=\u001b[39m \u001b[39mself\u001b[39m\u001b[39m.\u001b[39m_reader\u001b[39m.\u001b[39mgets()\n\u001b[1;32m    409\u001b[0m \u001b[39m# if the response is a ConnectionError or the response is a list and\u001b[39;00m\n\u001b[1;32m    410\u001b[0m \u001b[39m# the first item is a ConnectionError, raise it as something bad\u001b[39;00m\n\u001b[1;32m    411\u001b[0m \u001b[39m# happened\u001b[39;00m\n",
      "File \u001b[0;32m~/mambaforge/envs/sprout_master/lib/python3.9/site-packages/redis/asyncio/connection.py:389\u001b[0m, in \u001b[0;36mHiredisParser.read_from_socket\u001b[0;34m(self)\u001b[0m\n\u001b[1;32m    388\u001b[0m \u001b[39masync\u001b[39;00m \u001b[39mdef\u001b[39;00m \u001b[39mread_from_socket\u001b[39m(\u001b[39mself\u001b[39m):\n\u001b[0;32m--> 389\u001b[0m     buffer \u001b[39m=\u001b[39m \u001b[39mawait\u001b[39;00m \u001b[39mself\u001b[39m\u001b[39m.\u001b[39m_stream\u001b[39m.\u001b[39mread(\u001b[39mself\u001b[39m\u001b[39m.\u001b[39m_read_size)\n\u001b[1;32m    390\u001b[0m     \u001b[39mif\u001b[39;00m \u001b[39mnot\u001b[39;00m buffer \u001b[39mor\u001b[39;00m \u001b[39mnot\u001b[39;00m \u001b[39misinstance\u001b[39m(buffer, \u001b[39mbytes\u001b[39m):\n\u001b[1;32m    391\u001b[0m         \u001b[39mraise\u001b[39;00m \u001b[39mConnectionError\u001b[39;00m(SERVER_CLOSED_CONNECTION_ERROR) \u001b[39mfrom\u001b[39;00m \u001b[39mNone\u001b[39m\n",
      "File \u001b[0;32m~/mambaforge/envs/sprout_master/lib/python3.9/asyncio/streams.py:684\u001b[0m, in \u001b[0;36mStreamReader.read\u001b[0;34m(self, n)\u001b[0m\n\u001b[1;32m    681\u001b[0m     \u001b[39mreturn\u001b[39;00m \u001b[39mb\u001b[39m\u001b[39m'\u001b[39m\u001b[39m'\u001b[39m\u001b[39m.\u001b[39mjoin(blocks)\n\u001b[1;32m    683\u001b[0m \u001b[39mif\u001b[39;00m \u001b[39mnot\u001b[39;00m \u001b[39mself\u001b[39m\u001b[39m.\u001b[39m_buffer \u001b[39mand\u001b[39;00m \u001b[39mnot\u001b[39;00m \u001b[39mself\u001b[39m\u001b[39m.\u001b[39m_eof:\n\u001b[0;32m--> 684\u001b[0m     \u001b[39mawait\u001b[39;00m \u001b[39mself\u001b[39m\u001b[39m.\u001b[39m_wait_for_data(\u001b[39m'\u001b[39m\u001b[39mread\u001b[39m\u001b[39m'\u001b[39m)\n\u001b[1;32m    686\u001b[0m \u001b[39m# This will work right even if buffer is less than n bytes\u001b[39;00m\n\u001b[1;32m    687\u001b[0m data \u001b[39m=\u001b[39m \u001b[39mbytes\u001b[39m(\u001b[39mself\u001b[39m\u001b[39m.\u001b[39m_buffer[:n])\n",
      "File \u001b[0;32m~/mambaforge/envs/sprout_master/lib/python3.9/asyncio/streams.py:517\u001b[0m, in \u001b[0;36mStreamReader._wait_for_data\u001b[0;34m(self, func_name)\u001b[0m\n\u001b[1;32m    515\u001b[0m \u001b[39mself\u001b[39m\u001b[39m.\u001b[39m_waiter \u001b[39m=\u001b[39m \u001b[39mself\u001b[39m\u001b[39m.\u001b[39m_loop\u001b[39m.\u001b[39mcreate_future()\n\u001b[1;32m    516\u001b[0m \u001b[39mtry\u001b[39;00m:\n\u001b[0;32m--> 517\u001b[0m     \u001b[39mawait\u001b[39;00m \u001b[39mself\u001b[39m\u001b[39m.\u001b[39m_waiter\n\u001b[1;32m    518\u001b[0m \u001b[39mfinally\u001b[39;00m:\n\u001b[1;32m    519\u001b[0m     \u001b[39mself\u001b[39m\u001b[39m.\u001b[39m_waiter \u001b[39m=\u001b[39m \u001b[39mNone\u001b[39;00m\n",
      "\u001b[0;31mCancelledError\u001b[0m: "
     ]
    }
   ],
   "source": [
    "async for stuff in stream_generator(redis.Redis(), \"mystream\"):\n",
    "    print(stuff)"
   ]
  }
 ],
 "metadata": {
  "kernelspec": {
   "display_name": "sprout_master",
   "language": "python",
   "name": "python3"
  },
  "language_info": {
   "codemirror_mode": {
    "name": "ipython",
    "version": 3
   },
   "file_extension": ".py",
   "mimetype": "text/x-python",
   "name": "python",
   "nbconvert_exporter": "python",
   "pygments_lexer": "ipython3",
   "version": "3.9.15"
  },
  "orig_nbformat": 4,
  "vscode": {
   "interpreter": {
    "hash": "b56ecea2ca8e457cf138780ce4500f9361855fb9ec0898e39e6295ff1c3d20fa"
   }
  }
 },
 "nbformat": 4,
 "nbformat_minor": 2
}
