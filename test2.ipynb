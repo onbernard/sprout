{
 "cells": [
  {
   "cell_type": "code",
   "execution_count": 1,
   "metadata": {},
   "outputs": [],
   "source": [
    "from test_multi import afunc, Request, app, fails, infinite"
   ]
  },
  {
   "cell_type": "code",
   "execution_count": 2,
   "metadata": {},
   "outputs": [
    {
     "name": "stdout",
     "output_type": "stream",
     "text": [
      "(<sprout.utils.stream.AsyncRedisStream object at 0x7f13277731c0>, StreamItem(key='sprout:afunc:542bac9c870e9cd102c3909922945a4d'))\n",
      "(<sprout.utils.stream.AsyncRedisStream object at 0x7f1327773190>, StreamItem(key='sprout:afunc:542bac9c870e9cd102c3909922945a4d'))\n"
     ]
    }
   ],
   "source": [
    "async for stuff in afunc.watch():\n",
    "    print(stuff)"
   ]
  }
 ],
 "metadata": {
  "kernelspec": {
   "display_name": "sprout_master",
   "language": "python",
   "name": "python3"
  },
  "language_info": {
   "codemirror_mode": {
    "name": "ipython",
    "version": 3
   },
   "file_extension": ".py",
   "mimetype": "text/x-python",
   "name": "python",
   "nbconvert_exporter": "python",
   "pygments_lexer": "ipython3",
   "version": "3.9.15"
  },
  "orig_nbformat": 4,
  "vscode": {
   "interpreter": {
    "hash": "b56ecea2ca8e457cf138780ce4500f9361855fb9ec0898e39e6295ff1c3d20fa"
   }
  }
 },
 "nbformat": 4,
 "nbformat_minor": 2
}
