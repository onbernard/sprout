{
 "cells": [
  {
   "cell_type": "code",
   "execution_count": 9,
   "metadata": {},
   "outputs": [],
   "source": [
    "from test_multi import app, afunc, anotherfunc, fails\n",
    "import redis.asyncio as redis"
   ]
  },
  {
   "cell_type": "code",
   "execution_count": 36,
   "metadata": {},
   "outputs": [],
   "source": [
    "f = await afunc(4)\n",
    "f2 = await anotherfunc(\"lmao\")"
   ]
  },
  {
   "cell_type": "code",
   "execution_count": 8,
   "metadata": {},
   "outputs": [
    {
     "data": {
      "text/plain": [
       "{'pending': 1,\n",
       " 'min': b'1675164576489-0',\n",
       " 'max': b'1675164576489-0',\n",
       " 'consumers': [{'name': b'_consumer:03b277f97c5d43658a69ece4fc047638',\n",
       "   'pending': 1}]}"
      ]
     },
     "execution_count": 8,
     "metadata": {},
     "output_type": "execute_result"
    }
   ],
   "source": [
    "await redis.Redis().xpending(\"_stream:fails:pending\", groupname=\"_worker\")"
   ]
  }
 ],
 "metadata": {
  "kernelspec": {
   "display_name": "Python 3",
   "language": "python",
   "name": "python3"
  },
  "language_info": {
   "codemirror_mode": {
    "name": "ipython",
    "version": 3
   },
   "file_extension": ".py",
   "mimetype": "text/x-python",
   "name": "python",
   "nbconvert_exporter": "python",
   "pygments_lexer": "ipython3",
   "version": "3.9.15"
  },
  "orig_nbformat": 4,
  "vscode": {
   "interpreter": {
    "hash": "92bd4424d9af53b2ba02c9e006a1f497f44b68005d4e3e2c5343482010e89fd3"
   }
  }
 },
 "nbformat": 4,
 "nbformat_minor": 2
}
