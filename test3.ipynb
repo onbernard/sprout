{
 "cells": [
  {
   "cell_type": "code",
   "execution_count": 7,
   "metadata": {},
   "outputs": [],
   "source": [
    "from src.sprout import SproutRecord"
   ]
  },
  {
   "cell_type": "code",
   "execution_count": 8,
   "metadata": {},
   "outputs": [],
   "source": [
    "class StreamA(SproutRecord):\n",
    "    a: str = \"uwu\"\n",
    "    b: str = \"lol\"\n",
    "\n",
    "\n",
    "class StreamB(SproutRecord):\n",
    "    c: str"
   ]
  },
  {
   "cell_type": "code",
   "execution_count": 9,
   "metadata": {},
   "outputs": [],
   "source": [
    "@StreamA.processor\n",
    "async def add_c(stream):\n",
    "    async for stuff in stream:\n",
    "        print(stuff)"
   ]
  },
  {
   "cell_type": "code",
   "execution_count": 10,
   "metadata": {},
   "outputs": [
    {
     "ename": "NotFoundError",
     "evalue": "",
     "output_type": "error",
     "traceback": [
      "\u001b[0;31m---------------------------------------------------------------------------\u001b[0m",
      "\u001b[0;31mNotFoundError\u001b[0m                             Traceback (most recent call last)",
      "Cell \u001b[0;32mIn[10], line 1\u001b[0m\n\u001b[0;32m----> 1\u001b[0m \u001b[39mawait\u001b[39;00m add_c()\n",
      "Cell \u001b[0;32mIn[9], line 3\u001b[0m, in \u001b[0;36madd_c\u001b[0;34m(stream)\u001b[0m\n\u001b[1;32m      1\u001b[0m \u001b[39m@StreamA\u001b[39m\u001b[39m.\u001b[39mprocessor\n\u001b[1;32m      2\u001b[0m \u001b[39masync\u001b[39;00m \u001b[39mdef\u001b[39;00m \u001b[39madd_c\u001b[39m(stream):\n\u001b[0;32m----> 3\u001b[0m     \u001b[39masync\u001b[39;00m \u001b[39mfor\u001b[39;00m stuff \u001b[39min\u001b[39;00m stream:\n\u001b[1;32m      4\u001b[0m         \u001b[39mprint\u001b[39m(stuff)\n",
      "File \u001b[0;32m~/projets/sprout/src/sprout.py:39\u001b[0m, in \u001b[0;36mSproutRecord._stream\u001b[0;34m(cls, count, block, last_seen)\u001b[0m\n\u001b[1;32m     37\u001b[0m \u001b[39mif\u001b[39;00m items:\n\u001b[1;32m     38\u001b[0m     last_seen \u001b[39m=\u001b[39m items[\u001b[39m0\u001b[39m][\u001b[39m1\u001b[39m][\u001b[39m-\u001b[39m\u001b[39m1\u001b[39m][\u001b[39m0\u001b[39m]\n\u001b[0;32m---> 39\u001b[0m     new_count \u001b[39m=\u001b[39m \u001b[39myield\u001b[39;00m [\u001b[39mawait\u001b[39;00m \u001b[39mcls\u001b[39m\u001b[39m.\u001b[39mget(msg_dict[\u001b[39m\"\u001b[39m\u001b[39mkey\u001b[39m\u001b[39m\"\u001b[39m]) \u001b[39mfor\u001b[39;00m index, msg_dict \u001b[39min\u001b[39;00m items[\u001b[39m0\u001b[39m][\u001b[39m1\u001b[39m]]\n\u001b[1;32m     40\u001b[0m     count \u001b[39m=\u001b[39m new_count \u001b[39mif\u001b[39;00m new_count \u001b[39melse\u001b[39;00m count\n",
      "File \u001b[0;32m~/projets/sprout/src/sprout.py:39\u001b[0m, in \u001b[0;36m<listcomp>\u001b[0;34m(.0)\u001b[0m\n\u001b[1;32m     37\u001b[0m \u001b[39mif\u001b[39;00m items:\n\u001b[1;32m     38\u001b[0m     last_seen \u001b[39m=\u001b[39m items[\u001b[39m0\u001b[39m][\u001b[39m1\u001b[39m][\u001b[39m-\u001b[39m\u001b[39m1\u001b[39m][\u001b[39m0\u001b[39m]\n\u001b[0;32m---> 39\u001b[0m     new_count \u001b[39m=\u001b[39m \u001b[39myield\u001b[39;00m [\u001b[39mawait\u001b[39;00m \u001b[39mcls\u001b[39m\u001b[39m.\u001b[39mget(msg_dict[\u001b[39m\"\u001b[39m\u001b[39mkey\u001b[39m\u001b[39m\"\u001b[39m]) \u001b[39mfor\u001b[39;00m index, msg_dict \u001b[39min\u001b[39;00m items[\u001b[39m0\u001b[39m][\u001b[39m1\u001b[39m]]\n\u001b[1;32m     40\u001b[0m     count \u001b[39m=\u001b[39m new_count \u001b[39mif\u001b[39;00m new_count \u001b[39melse\u001b[39;00m count\n",
      "File \u001b[0;32m~/mambaforge/envs/sprout_master/lib/python3.9/site-packages/aredis_om/model/model.py:1565\u001b[0m, in \u001b[0;36mJsonModel.get\u001b[0;34m(cls, pk)\u001b[0m\n\u001b[1;32m   1563\u001b[0m document \u001b[39m=\u001b[39m json\u001b[39m.\u001b[39mdumps(\u001b[39mawait\u001b[39;00m \u001b[39mcls\u001b[39m\u001b[39m.\u001b[39mdb()\u001b[39m.\u001b[39mjson()\u001b[39m.\u001b[39mget(\u001b[39mcls\u001b[39m\u001b[39m.\u001b[39mmake_key(pk)))\n\u001b[1;32m   1564\u001b[0m \u001b[39mif\u001b[39;00m document \u001b[39m==\u001b[39m \u001b[39m\"\u001b[39m\u001b[39mnull\u001b[39m\u001b[39m\"\u001b[39m:\n\u001b[0;32m-> 1565\u001b[0m     \u001b[39mraise\u001b[39;00m NotFoundError\n\u001b[1;32m   1566\u001b[0m \u001b[39mreturn\u001b[39;00m \u001b[39mcls\u001b[39m\u001b[39m.\u001b[39mparse_raw(document)\n",
      "\u001b[0;31mNotFoundError\u001b[0m: "
     ]
    }
   ],
   "source": [
    "await add_c()"
   ]
  },
  {
   "cell_type": "code",
   "execution_count": 10,
   "metadata": {},
   "outputs": [
    {
     "data": {
      "text/plain": [
       "'_sprout:stream:SproutRecord'"
      ]
     },
     "execution_count": 10,
     "metadata": {},
     "output_type": "execute_result"
    }
   ],
   "source": [
    "SproutRecord._stream_key()"
   ]
  }
 ],
 "metadata": {
  "kernelspec": {
   "display_name": "sprout_master",
   "language": "python",
   "name": "python3"
  },
  "language_info": {
   "codemirror_mode": {
    "name": "ipython",
    "version": 3
   },
   "file_extension": ".py",
   "mimetype": "text/x-python",
   "name": "python",
   "nbconvert_exporter": "python",
   "pygments_lexer": "ipython3",
   "version": "3.9.15"
  },
  "orig_nbformat": 4,
  "vscode": {
   "interpreter": {
    "hash": "b56ecea2ca8e457cf138780ce4500f9361855fb9ec0898e39e6295ff1c3d20fa"
   }
  }
 },
 "nbformat": 4,
 "nbformat_minor": 2
}
