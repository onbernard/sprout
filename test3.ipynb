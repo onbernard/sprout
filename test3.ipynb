{
 "cells": [
  {
   "cell_type": "code",
   "execution_count": 2,
   "metadata": {},
   "outputs": [],
   "source": [
    "from test_multi import app, afunc, anotherfunc, fails, Request, infinite\n",
    "from sprout.utils.stream import AsyncRedisStream\n",
    "import asyncio"
   ]
  },
  {
   "cell_type": "code",
   "execution_count": 3,
   "metadata": {},
   "outputs": [
    {
     "name": "stdout",
     "output_type": "stream",
     "text": [
      "Consumer afunc-_consumer:830ca4635d6c4eeaaa5e51cd2a3ff9e3 got args=() kwargs={'a': {'file': 'uwu'}}\n",
      "file='uwu'\n",
      "Consumer afunc-_consumer:830ca4635d6c4eeaaa5e51cd2a3ff9e3 with args=() kwargs={'a': {'file': 'uwu'}} completed task\n",
      "arguments=Arguments(args=(), kwargs={'a': {'file': 'uwu'}}) result='uwuuwu' status='completed'\n",
      "Consumer afunc-_consumer:830ca4635d6c4eeaaa5e51cd2a3ff9e3 got args=() kwargs={'a': {'file': 'ufdswu'}}\n",
      "file='ufdswu'\n",
      "Consumer afunc-_consumer:830ca4635d6c4eeaaa5e51cd2a3ff9e3 with args=() kwargs={'a': {'file': 'ufdswu'}} completed task\n",
      "arguments=Arguments(args=(), kwargs={'a': {'file': 'ufdswu'}}) result='ufdswuuwu' status='completed'\n",
      "Consumer afunc-_consumer:830ca4635d6c4eeaaa5e51cd2a3ff9e3 got args=() kwargs={'a': {'file': 'ufdsddswu'}}\n",
      "file='ufdsddswu'\n",
      "Consumer afunc-_consumer:830ca4635d6c4eeaaa5e51cd2a3ff9e3 with args=() kwargs={'a': {'file': 'ufdsddswu'}} completed task\n",
      "arguments=Arguments(args=(), kwargs={'a': {'file': 'ufdsddswu'}}) result='ufdsddswuuwu' status='completed'\n",
      "Consumer afunc-_consumer:830ca4635d6c4eeaaa5e51cd2a3ff9e3 got args=() kwargs={'a': {'file': 'ufdsddsgggwu'}}\n",
      "file='ufdsddsgggwu'\n",
      "Consumer afunc-_consumer:830ca4635d6c4eeaaa5e51cd2a3ff9e3 with args=() kwargs={'a': {'file': 'ufdsddsgggwu'}} completed task\n",
      "arguments=Arguments(args=(), kwargs={'a': {'file': 'ufdsddsgggwu'}}) result='ufdsddsgggwuuwu' status='completed'\n",
      "Consumer afunc-_consumer:830ca4635d6c4eeaaa5e51cd2a3ff9e3 got args=() kwargs={'a': {'file': 'ufdsqf'}}\n",
      "file='ufdsqf'\n",
      "Consumer afunc-_consumer:830ca4635d6c4eeaaa5e51cd2a3ff9e3 with args=() kwargs={'a': {'file': 'ufdsqf'}} completed task\n",
      "arguments=Arguments(args=(), kwargs={'a': {'file': 'ufdsqf'}}) result='ufdsqfuwu' status='completed'\n",
      "Consumer afunc-_consumer:830ca4635d6c4eeaaa5e51cd2a3ff9e3 got args=() kwargs={'a': {'file': 'ufdtttttttttttsqf'}}\n",
      "file='ufdtttttttttttsqf'\n",
      "Consumer afunc-_consumer:830ca4635d6c4eeaaa5e51cd2a3ff9e3 with args=() kwargs={'a': {'file': 'ufdtttttttttttsqf'}} completed task\n",
      "arguments=Arguments(args=(), kwargs={'a': {'file': 'ufdtttttttttttsqf'}}) result='ufdtttttttttttsqfuwu' status='completed'\n",
      "Consumer afunc-_consumer:830ca4635d6c4eeaaa5e51cd2a3ff9e3 got args=() kwargs={'a': {'file': 'ufdtttttttttttsqffd'}}\n",
      "file='ufdtttttttttttsqffd'\n",
      "Consumer afunc-_consumer:830ca4635d6c4eeaaa5e51cd2a3ff9e3 with args=() kwargs={'a': {'file': 'ufdtttttttttttsqffd'}} completed task\n",
      "arguments=Arguments(args=(), kwargs={'a': {'file': 'ufdtttttttttttsqffd'}}) result='ufdtttttttttttsqffduwu' status='completed'\n",
      "Consumer afunc-_consumer:830ca4635d6c4eeaaa5e51cd2a3ff9e3 got args=() kwargs={'a': {'file': 'uffffdtttttttttttsqffd'}}\n",
      "file='uffffdtttttttttttsqffd'\n",
      "Consumer afunc-_consumer:830ca4635d6c4eeaaa5e51cd2a3ff9e3 with args=() kwargs={'a': {'file': 'uffffdtttttttttttsqffd'}} completed task\n",
      "arguments=Arguments(args=(), kwargs={'a': {'file': 'uffffdtttttttttttsqffd'}}) result='uffffdtttttttttttsqffduwu' status='completed'\n",
      "Consumer afunc-_consumer:830ca4635d6c4eeaaa5e51cd2a3ff9e3 got args=() kwargs={'a': {'file': 'uwuuwuwu'}}\n",
      "file='uwuuwuwu'\n",
      "Consumer afunc-_consumer:830ca4635d6c4eeaaa5e51cd2a3ff9e3 with args=() kwargs={'a': {'file': 'uwuuwuwu'}} completed task\n",
      "arguments=Arguments(args=(), kwargs={'a': {'file': 'uwuuwuwu'}}) result='uwuuwuwuuwu' status='completed'\n",
      "Consumer afunc-_consumer:830ca4635d6c4eeaaa5e51cd2a3ff9e3 got args=() kwargs={'a': {'file': 'uwufdsquwuwu'}}\n",
      "file='uwufdsquwuwu'\n",
      "Consumer afunc-_consumer:830ca4635d6c4eeaaa5e51cd2a3ff9e3 with args=() kwargs={'a': {'file': 'uwufdsquwuwu'}} completed task\n",
      "arguments=Arguments(args=(), kwargs={'a': {'file': 'uwufdsquwuwu'}}) result='uwufdsquwuwuuwu' status='completed'\n",
      "Consumer afunc-_consumer:830ca4635d6c4eeaaa5e51cd2a3ff9e3 got args=() kwargs={'a': {'file': 'uwufdfdsqfsquwuwu'}}\n",
      "file='uwufdfdsqfsquwuwu'\n",
      "Consumer afunc-_consumer:830ca4635d6c4eeaaa5e51cd2a3ff9e3 with args=() kwargs={'a': {'file': 'uwufdfdsqfsquwuwu'}} completed task\n",
      "arguments=Arguments(args=(), kwargs={'a': {'file': 'uwufdfdsqfsquwuwu'}}) result='uwufdfdsqfsquwuwuuwu' status='completed'\n"
     ]
    }
   ],
   "source": [
    "async for stuff in afunc.consumer():\n",
    "    print(stuff)"
   ]
  }
 ],
 "metadata": {
  "kernelspec": {
   "display_name": "sprout_master",
   "language": "python",
   "name": "python3"
  },
  "language_info": {
   "codemirror_mode": {
    "name": "ipython",
    "version": 3
   },
   "file_extension": ".py",
   "mimetype": "text/x-python",
   "name": "python",
   "nbconvert_exporter": "python",
   "pygments_lexer": "ipython3",
   "version": "3.9.15"
  },
  "orig_nbformat": 4,
  "vscode": {
   "interpreter": {
    "hash": "b56ecea2ca8e457cf138780ce4500f9361855fb9ec0898e39e6295ff1c3d20fa"
   }
  }
 },
 "nbformat": 4,
 "nbformat_minor": 2
}
