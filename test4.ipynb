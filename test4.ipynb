{
 "cells": [
  {
   "cell_type": "code",
   "execution_count": 1,
   "metadata": {},
   "outputs": [],
   "source": [
    "from src.utils.stream import RedisStream\n",
    "import redis\n",
    "from src.sprout import Future\n",
    "from test_multi import test"
   ]
  },
  {
   "cell_type": "code",
   "execution_count": 4,
   "metadata": {},
   "outputs": [],
   "source": [
    "f1 = test(x=1)\n",
    "f2 = test(x=2)\n",
    "f10 = test(x=10)\n",
    "f11 = test(x=11)"
   ]
  },
  {
   "cell_type": "code",
   "execution_count": 21,
   "metadata": {},
   "outputs": [
    {
     "data": {
      "text/plain": [
       "Future(status='completed', kwargs={'x': 2}, result=2, key='_sprout:future:d92e3f0745fd4a31b726379889fdbe91')"
      ]
     },
     "execution_count": 21,
     "metadata": {},
     "output_type": "execute_result"
    }
   ],
   "source": [
    "test.resolve(f2)"
   ]
  },
  {
   "cell_type": "code",
   "execution_count": 32,
   "metadata": {},
   "outputs": [
    {
     "data": {
      "text/plain": [
       "[(b'1674600846817-0',\n",
       "  Future(status='completed', kwargs={'x': 1}, result=1, key='_sprout:future:932d8df3b1cb4b22a06a510768fcd08a')),\n",
       " (b'1674600869871-0',\n",
       "  Future(status='completed', kwargs={'x': 1}, result=1, key='_sprout:future:3110161da5224535a92c9f8e4a5ee184')),\n",
       " (b'1674600870873-0',\n",
       "  Future(status='completed', kwargs={'x': 2}, result=2, key='_sprout:future:d92e3f0745fd4a31b726379889fdbe91')),\n",
       " (b'1674600969065-0',\n",
       "  Future(status='completed', kwargs={'x': 1}, result=1, key='_sprout:future:a2db0ed5ba3a4656bfc15c80b9c0b1f4')),\n",
       " (b'1674600970069-0',\n",
       "  Future(status='completed', kwargs={'x': 2}, result=2, key='_sprout:future:6f340cb17f5d4cadabac784e69ce8d32')),\n",
       " (b'1674600979067-0',\n",
       "  Future(status='completed', kwargs={'x': 10}, result=10, key='_sprout:future:5fba6d717b2147e5b0606e4a3387228d')),\n",
       " (b'1674601026484-0',\n",
       "  Future(status='completed', kwargs={'x': 10}, result=10, key='_sprout:future:1f1a9ef50775427fa4b955eb557e882a')),\n",
       " (b'1674601035602-0',\n",
       "  Future(status='completed', kwargs={'x': 1}, result=1, key='_sprout:future:280c32a2eab84540aec8c88573371ccc')),\n",
       " (b'1674601036605-0',\n",
       "  Future(status='completed', kwargs={'x': 2}, result=2, key='_sprout:future:52eb375f1817468e8279f20204e28f7b')),\n",
       " (b'1674601045614-0',\n",
       "  Future(status='completed', kwargs={'x': 10}, result=10, key='_sprout:future:c6ac43ec0c8e4b79acb46b66dd267e60')),\n",
       " (b'1674601131999-0',\n",
       "  Future(status='completed', kwargs={'x': 1}, result=1, key='_sprout:future:82e56deaf7994cd6b263208b46853627')),\n",
       " (b'1674601133003-0',\n",
       "  Future(status='completed', kwargs={'x': 2}, result=2, key='_sprout:future:11b70946bc3a455a802bb1f281f8345b')),\n",
       " (b'1674601141372-0',\n",
       "  Future(status='completed', kwargs={'x': 1}, result=1, key='_sprout:future:579d06c65bd6450a90a7d5b40190f9fc')),\n",
       " (b'1674601142012-0',\n",
       "  Future(status='completed', kwargs={'x': 10}, result=10, key='_sprout:future:910076d11e254e338ac8d4136faa2a06')),\n",
       " (b'1674601143376-0',\n",
       "  Future(status='completed', kwargs={'x': 2}, result=2, key='_sprout:future:a62b8766e92f40d7ac917cbf77c8318e')),\n",
       " (b'1674601152024-0',\n",
       "  Future(status='completed', kwargs={'x': 10}, result=10, key='_sprout:future:6d5348ec3eda4581ac246d9b27e17b3c')),\n",
       " (b'1674601154389-0',\n",
       "  Future(status='completed', kwargs={'x': 11}, result=11, key='_sprout:future:7fef1c99354a424c98709739b52c9fcf'))]"
      ]
     },
     "execution_count": 32,
     "metadata": {},
     "output_type": "execute_result"
    }
   ],
   "source": [
    "test.completed()"
   ]
  }
 ],
 "metadata": {
  "kernelspec": {
   "display_name": "sprout_master",
   "language": "python",
   "name": "python3"
  },
  "language_info": {
   "codemirror_mode": {
    "name": "ipython",
    "version": 3
   },
   "file_extension": ".py",
   "mimetype": "text/x-python",
   "name": "python",
   "nbconvert_exporter": "python",
   "pygments_lexer": "ipython3",
   "version": "3.9.15"
  },
  "orig_nbformat": 4,
  "vscode": {
   "interpreter": {
    "hash": "b56ecea2ca8e457cf138780ce4500f9361855fb9ec0898e39e6295ff1c3d20fa"
   }
  }
 },
 "nbformat": 4,
 "nbformat_minor": 2
}
